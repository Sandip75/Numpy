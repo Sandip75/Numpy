{
 "cells": [
  {
   "cell_type": "code",
   "execution_count": 3,
   "metadata": {
    "collapsed": true
   },
   "outputs": [],
   "source": [
    "import numpy as np"
   ]
  },
  {
   "cell_type": "code",
   "execution_count": 4,
   "metadata": {},
   "outputs": [
    {
     "data": {
      "text/plain": [
       "1"
      ]
     },
     "execution_count": 4,
     "metadata": {},
     "output_type": "execute_result"
    }
   ],
   "source": [
    "#one dimination array\n",
    "a = np.array([2,6,9])\n",
    "a[0]\n",
    "a[2]\n",
    "a.ndim    #It is used to check dimension of an array "
   ]
  },
  {
   "cell_type": "code",
   "execution_count": 5,
   "metadata": {},
   "outputs": [
    {
     "data": {
      "text/plain": [
       "(2, 3)"
      ]
     },
     "execution_count": 5,
     "metadata": {},
     "output_type": "execute_result"
    }
   ],
   "source": [
    "#2-D array\n",
    "a2 = np.array([[1,2],[3,4],[5,6]])\n",
    "a2.ndim\n",
    "a2.itemsize   # its size of item since int have 4 bit size so output will be 4\n",
    "a2.dtype       #to check datatype\n",
    "  \n",
    "# here we change datatype into float from int \n",
    "a2=np.array([[1,2,3],[5,6,7]] ,dtype=np.float64)\n",
    "a2.dtype\n",
    "a2\n",
    "a2.size #total number of elements\n",
    "a2.shape  #dimension of 2D array (rows , coloum )\n",
    "\n",
    "# here we change datatype into complex from int \n",
    "a2=np.array([[1,2,3],[5,6,7]] ,dtype=complex)\n",
    "a2\n",
    "a2.shape"
   ]
  },
  {
   "cell_type": "code",
   "execution_count": 6,
   "metadata": {
    "scrolled": true
   },
   "outputs": [
    {
     "data": {
      "text/plain": [
       "array([ 1.        ,  1.28571429,  1.57142857,  1.85714286,  2.14285714,\n",
       "        2.42857143,  2.71428571,  3.        ,  3.28571429,  3.57142857,\n",
       "        3.85714286,  4.14285714,  4.42857143,  4.71428571,  5.        ])"
      ]
     },
     "execution_count": 6,
     "metadata": {},
     "output_type": "execute_result"
    }
   ],
   "source": [
    "a = np.zeros((3,4))\n",
    "a\n",
    "a = np.ones((10,3))\n",
    "a\n",
    "\n",
    "#for range \n",
    "np.arange(1,9)\n",
    "np.arange(1,19,2)\n",
    "np.linspace(1,5,15)"
   ]
  },
  {
   "cell_type": "code",
   "execution_count": 7,
   "metadata": {
    "scrolled": true
   },
   "outputs": [
    {
     "data": {
      "text/plain": [
       "array([ 1,  2,  4,  6,  9,  2, 12, 65])"
      ]
     },
     "execution_count": 7,
     "metadata": {},
     "output_type": "execute_result"
    }
   ],
   "source": [
    "a=np.array([[1,2],[4,6],[9,2],[12,65]])\n",
    "a\n",
    "a.shape\n",
    "a.reshape(2,4)  # It is used to change diminsion of array \n",
    "a.ravel()  #It will make one dimsion array"
   ]
  },
  {
   "cell_type": "code",
   "execution_count": 8,
   "metadata": {},
   "outputs": [
    {
     "data": {
      "text/plain": [
       "array([  3,  10,  11,  77, 377])"
      ]
     },
     "execution_count": 8,
     "metadata": {},
     "output_type": "execute_result"
    }
   ],
   "source": [
    "a=np.array([[1,2],[4,6],[9,2],[12,65],[345,32]])\n",
    "a\n",
    "a.min()\n",
    "a.max()\n",
    "a.sum()\n",
    "\n",
    "#axis 1 is used for rows \n",
    "#axis 0 is used for coloums\n",
    "a.sum(axis=0)\n",
    "a.sum(axis=1)"
   ]
  },
  {
   "cell_type": "code",
   "execution_count": 9,
   "metadata": {},
   "outputs": [
    {
     "data": {
      "text/plain": [
       "1.4142135623730951"
      ]
     },
     "execution_count": 9,
     "metadata": {},
     "output_type": "execute_result"
    }
   ],
   "source": [
    "a=np.arange(1,6)\n",
    "a\n",
    "np.sqrt(a)\n",
    "np.std(a) #standard devisionb"
   ]
  },
  {
   "cell_type": "code",
   "execution_count": 16,
   "metadata": {},
   "outputs": [
    {
     "data": {
      "text/plain": [
       "array([[55, 28],\n",
       "       [23, 10]])"
      ]
     },
     "execution_count": 16,
     "metadata": {},
     "output_type": "execute_result"
    }
   ],
   "source": [
    "a=np.array([[3,4],[1,2]])\n",
    "b=np.array([[9,8],[7,1]])\n",
    "a+b\n",
    "a/b\n",
    "a*b\n",
    "a.dot(b)  # matrics product\n"
   ]
  }
 ],
 "metadata": {
  "kernelspec": {
   "display_name": "Python 3",
   "language": "python",
   "name": "python3"
  },
  "language_info": {
   "codemirror_mode": {
    "name": "ipython",
    "version": 3
   },
   "file_extension": ".py",
   "mimetype": "text/x-python",
   "name": "python",
   "nbconvert_exporter": "python",
   "pygments_lexer": "ipython3",
   "version": "3.6.3"
  }
 },
 "nbformat": 4,
 "nbformat_minor": 2
}
