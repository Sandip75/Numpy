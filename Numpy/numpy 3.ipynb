{
 "cells": [
  {
   "cell_type": "code",
   "execution_count": 1,
   "metadata": {
    "collapsed": true
   },
   "outputs": [],
   "source": [
    "import numpy as np"
   ]
  },
  {
   "cell_type": "code",
   "execution_count": 5,
   "metadata": {},
   "outputs": [
    {
     "data": {
      "text/plain": [
       "array([[5, 6],\n",
       "       [2, 3]])"
      ]
     },
     "execution_count": 5,
     "metadata": {},
     "output_type": "execute_result"
    }
   ],
   "source": [
    "#Slicing using list\n",
    "n = [1,2,3,4,5]\n",
    "n[0:3]\n",
    "n[-1]\n",
    "\n",
    "#Slicing using numpy \n",
    "a=np.array([6,7,8,1,3])\n",
    "a[0:3]\n",
    "a[-1]\n",
    "\n",
    "a=np.array([[4,5,6],[1,2,3],[9,8,7]])\n",
    "a[1,2]\n",
    "a[0:2,2]  #0:2 represent rows and ,2 represent col.\n",
    "a[-1] #last row will be printed\n",
    "a[-1,0:2] \n",
    "a[:,1:3]\n",
    "a[0:2,1:3]"
   ]
  },
  {
   "cell_type": "code",
   "execution_count": 12,
   "metadata": {},
   "outputs": [
    {
     "name": "stdout",
     "output_type": "stream",
     "text": [
      "[4 5 6]\n",
      "[1 2 3]\n",
      "[9 8 7]\n",
      "4\n",
      "5\n",
      "6\n",
      "1\n",
      "2\n",
      "3\n",
      "9\n",
      "8\n",
      "7\n"
     ]
    }
   ],
   "source": [
    "a=np.array([[4,5,6],[1,2,3],[9,8,7]])\n",
    "a\n",
    "for rows in a:\n",
    "    print(rows)\n",
    "\n",
    "for cell in a.flat:\n",
    "    print(cell)"
   ]
  },
  {
   "cell_type": "code",
   "execution_count": 24,
   "metadata": {},
   "outputs": [
    {
     "data": {
      "text/plain": [
       "array([[10, 11, 12, 13, 14],\n",
       "       [25, 26, 27, 28, 29]])"
      ]
     },
     "execution_count": 24,
     "metadata": {},
     "output_type": "execute_result"
    }
   ],
   "source": [
    "a=np.arange(6).reshape(3,2)\n",
    "b=np.arange(6,12).reshape(3,2)\n",
    "a\n",
    "b\n",
    "np.vstack((a,b))\n",
    "np.hstack((a,b))\n",
    "\n",
    "\n",
    "a=np.arange(30).reshape(2,15)\n",
    "a\n",
    "np.hsplit(a,3)\n",
    "result = np.hsplit(a,3) #slpliting given list into 3 parts\n",
    "result[0]\n",
    "result[1]\n",
    "result[2]\n"
   ]
  },
  {
   "cell_type": "code",
   "execution_count": 31,
   "metadata": {},
   "outputs": [
    {
     "data": {
      "text/plain": [
       "array([[ 0,  1,  2,  3],\n",
       "       [ 4, -1, -1, -1],\n",
       "       [-1, -1, -1, -1]])"
      ]
     },
     "execution_count": 31,
     "metadata": {},
     "output_type": "execute_result"
    }
   ],
   "source": [
    "a=np.arange(12).reshape(3,4)\n",
    "a\n",
    "b= a>4\n",
    "b\n",
    "a[b]\n",
    "a[b]=-1\n",
    "a"
   ]
  }
 ],
 "metadata": {
  "kernelspec": {
   "display_name": "Python 3",
   "language": "python",
   "name": "python3"
  },
  "language_info": {
   "codemirror_mode": {
    "name": "ipython",
    "version": 3
   },
   "file_extension": ".py",
   "mimetype": "text/x-python",
   "name": "python",
   "nbconvert_exporter": "python",
   "pygments_lexer": "ipython3",
   "version": "3.6.3"
  }
 },
 "nbformat": 4,
 "nbformat_minor": 2
}
